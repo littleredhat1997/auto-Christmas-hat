{
 "cells": [
  {
   "cell_type": "code",
   "execution_count": 1,
   "metadata": {
    "collapsed": true
   },
   "outputs": [],
   "source": [
    "from PIL import Image\n",
    "import cv2, os, random\n",
    "\n",
    "out_path = 'samples'\n",
    "if not os.path.exists(out_path):\n",
    "    os.makedirs(out_path)"
   ]
  },
  {
   "cell_type": "code",
   "execution_count": 2,
   "metadata": {
    "collapsed": false
   },
   "outputs": [
    {
     "name": "stdout",
     "output_type": "stream",
     "text": [
      "发现37个人脸!\n",
      "发现37个人脸!\n",
      "发现12个人脸!\n"
     ]
    }
   ],
   "source": [
    "# 数据源\n",
    "dir_path = 'faces/'\n",
    "# 图片集\n",
    "faces = os.listdir(dir_path)\n",
    "# 分类器\n",
    "face_cascade = cv2.CascadeClassifier('./haarcascade_frontalface_default.xml')\n",
    "\n",
    "# 遍历图片\n",
    "for face in faces:\n",
    "    # 读取图片\n",
    "    image = cv2.imread(dir_path + face)\n",
    "    # 转灰度图\n",
    "    gray = cv2.cvtColor(image, cv2.COLOR_BGR2GRAY)\n",
    "    # 识别人脸\n",
    "    faces = face_cascade.detectMultiScale(\n",
    "        gray,\n",
    "        scaleFactor = 1.3,\n",
    "        minNeighbors = 5,\n",
    "        minSize = (5,5),\n",
    "        flags = cv2.CASCADE_SCALE_IMAGE\n",
    "    )\n",
    "\n",
    "    print(\"发现%d个人脸!\" % len(faces))\n",
    "\n",
    "    for(x,y,w,h) in faces:\n",
    "        # (x, y) 起点在左上角\n",
    "        # (w, h) 宽度, 高度\n",
    "        # print(x,y,w,h)\n",
    "        # img, pt1, pt2, color, thickness\n",
    "        cv2.rectangle(image, (x,y), (x+w, y+h), (0,255,0), 2)\n",
    "\n",
    "    # open windows\n",
    "    cv2.imshow('face recognition', image)\n",
    "    cv2.waitKey(0)\n",
    "\n",
    "# close windows\n",
    "cv2.destroyAllWindows()"
   ]
  },
  {
   "cell_type": "code",
   "execution_count": 3,
   "metadata": {
    "collapsed": false
   },
   "outputs": [
    {
     "name": "stdout",
     "output_type": "stream",
     "text": [
      "发现37个人脸!\n",
      "发现37个人脸!\n",
      "发现12个人脸!\n"
     ]
    }
   ],
   "source": [
    "# 缩放因子\n",
    "factor = 1.3\n",
    "# 帽子图片\n",
    "hats = ['hats/' + file for file in os.listdir('hats')]\n",
    "\n",
    "# 数据源\n",
    "dir_path = 'faces/'\n",
    "# 图片集\n",
    "faces = os.listdir(dir_path)\n",
    "# 分类器\n",
    "face_cascade = cv2.CascadeClassifier('./haarcascade_frontalface_default.xml')\n",
    "\n",
    "# 遍历图片\n",
    "for face in faces:\n",
    "    # 读取图片\n",
    "    image = cv2.imread(dir_path + face)\n",
    "    # 转灰度图\n",
    "    gray = cv2.cvtColor(image, cv2.COLOR_BGR2GRAY)\n",
    "    # 识别人脸\n",
    "    faces = face_cascade.detectMultiScale(\n",
    "        gray,\n",
    "        scaleFactor = 1.3,\n",
    "        minNeighbors = 5,\n",
    "        minSize = (5,5),\n",
    "        flags = cv2.CASCADE_SCALE_IMAGE\n",
    "    )\n",
    "\n",
    "    print(\"发现%d个人脸!\" % len(faces))\n",
    "\n",
    "    bg = Image.open(dir_path + face)\n",
    "\n",
    "    for(x,y,w,h) in faces:\n",
    "        # (x, y) 起点在左上角\n",
    "        # (w, h) 宽度, 高度\n",
    "        # print(x,y,w,h)\n",
    "\n",
    "        # 帽子索引\n",
    "        idx = random.randint(0, len(hats)-1)\n",
    "        hat = Image.open(hats[idx]).convert(\"RGBA\")\n",
    "\n",
    "        # 帽子大小\n",
    "        size = (int(w * factor), int(h * factor))\n",
    "        hat = hat.resize(size)\n",
    "\n",
    "        # 帽子位置\n",
    "        pos = (x, y-int(h*factor/2))\n",
    "        bg.paste(hat, pos, hat) # 第三个参数是mask，用于指定透明区域\n",
    "\n",
    "    bg.save('%s/%s.png' % (out_path, face.split('.')[0]))"
   ]
  }
 ],
 "metadata": {
  "anaconda-cloud": {},
  "kernelspec": {
   "display_name": "Python [conda root]",
   "language": "python",
   "name": "conda-root-py"
  },
  "language_info": {
   "codemirror_mode": {
    "name": "ipython",
    "version": 3
   },
   "file_extension": ".py",
   "mimetype": "text/x-python",
   "name": "python",
   "nbconvert_exporter": "python",
   "pygments_lexer": "ipython3",
   "version": "3.5.2"
  }
 },
 "nbformat": 4,
 "nbformat_minor": 1
}
