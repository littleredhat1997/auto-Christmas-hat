{
 "cells": [
  {
   "cell_type": "code",
   "execution_count": 1,
   "metadata": {
    "collapsed": true
   },
   "outputs": [],
   "source": [
    "from PIL import Image\n",
    "import cv2, os, random"
   ]
  },
  {
   "cell_type": "code",
   "execution_count": 2,
   "metadata": {
    "collapsed": false
   },
   "outputs": [
    {
     "name": "stdout",
     "output_type": "stream",
     "text": [
      "发现12个人脸!\n",
      "65 16 51 51\n",
      "421 46 49 49\n",
      "460 128 47 47\n",
      "138 134 51 51\n",
      "348 133 53 53\n",
      "398 214 52 52\n",
      "44 241 58 58\n",
      "244 340 60 60\n",
      "140 359 58 58\n",
      "43 365 56 56\n",
      "382 361 59 59\n",
      "461 371 61 61\n"
     ]
    }
   ],
   "source": [
    "# 识别图片\n",
    "imagepath = '0.jpg'\n",
    "# 人脸识别数据集\n",
    "face_cascade = cv2.CascadeClassifier('./haarcascade_frontalface_default.xml')\n",
    "\n",
    "# 读取图片\n",
    "image = cv2.imread(imagepath)\n",
    "# 转灰度图\n",
    "gray = cv2.cvtColor(image, cv2.COLOR_BGR2GRAY)\n",
    "\n",
    "# 探测图片中的人脸\n",
    "faces = face_cascade.detectMultiScale(\n",
    "    gray,\n",
    "    scaleFactor = 1.3,\n",
    "    minNeighbors = 5,\n",
    "    minSize = (5,5),\n",
    "    flags = cv2.CASCADE_SCALE_IMAGE\n",
    ")\n",
    "\n",
    "print(\"发现%d个人脸!\" % len(faces))\n",
    "\n",
    "for(x,y,w,h) in faces:\n",
    "    # (x, y) 起点在左上角\n",
    "    # (w, h) 宽度, 高度\n",
    "    print(x,y,w,h)\n",
    "    # img, pt1, pt2, color, thickness\n",
    "    cv2.rectangle(image, (x,y), (x+w,y+h), (0,255,0), 2)\n",
    "\n",
    "cv2.imshow('face recognition', image)\n",
    "cv2.waitKey(0)\n",
    "cv2.destroyAllWindows()"
   ]
  },
  {
   "cell_type": "code",
   "execution_count": 3,
   "metadata": {
    "collapsed": false
   },
   "outputs": [
    {
     "name": "stdout",
     "output_type": "stream",
     "text": [
      "发现12个人脸!\n",
      "65 16 51 51\n",
      "460 128 47 47\n",
      "421 46 49 49\n",
      "138 134 51 51\n",
      "398 214 52 52\n",
      "348 133 53 53\n",
      "44 241 58 58\n",
      "140 359 58 58\n",
      "43 365 56 56\n",
      "382 361 59 59\n",
      "244 340 60 60\n",
      "461 371 61 61\n"
     ]
    }
   ],
   "source": [
    "# 识别图片\n",
    "imagepath = '0.jpg'\n",
    "# 帽子图片\n",
    "hats = ['hats/' + file for file in os.listdir('hats')]\n",
    "# 缩放因子\n",
    "factor = 1.3\n",
    "# 人脸识别数据集\n",
    "face_cascade = cv2.CascadeClassifier('./haarcascade_frontalface_default.xml')\n",
    "\n",
    "# 读取图片\n",
    "image = cv2.imread(imagepath)\n",
    "# 转灰度图\n",
    "gray = cv2.cvtColor(image, cv2.COLOR_BGR2GRAY)\n",
    "\n",
    "# 探测图片中的人脸\n",
    "faces = face_cascade.detectMultiScale(\n",
    "    gray,\n",
    "    scaleFactor = 1.3,\n",
    "    minNeighbors = 5,\n",
    "    minSize = (5,5),\n",
    "    flags = cv2.CASCADE_SCALE_IMAGE\n",
    ")\n",
    "\n",
    "print(\"发现%d个人脸!\" % len(faces))\n",
    "\n",
    "bg = Image.open(imagepath)\n",
    "\n",
    "for(x,y,w,h) in faces:\n",
    "    # (x, y) 起点在左上角\n",
    "    # (w, h) 宽度, 高度\n",
    "    print(x,y,w,h)\n",
    "    \n",
    "    # 帽子索引\n",
    "    idx = random.randint(0, len(hats)-1)\n",
    "    hat = Image.open(hats[idx]).convert(\"RGBA\")\n",
    "    \n",
    "    # 帽子大小\n",
    "    size = (int(w * factor), int(h * factor))\n",
    "    hat = hat.resize(size)\n",
    "    \n",
    "    # 帽子位置\n",
    "    pos = (x, y-int(h*factor/2))\n",
    "    bg.paste(hat, pos, hat) # 第三个参数是mask，用于指定透明区域\n",
    "\n",
    "bg.save('./out.png')"
   ]
  }
 ],
 "metadata": {
  "anaconda-cloud": {},
  "kernelspec": {
   "display_name": "Python [conda root]",
   "language": "python",
   "name": "conda-root-py"
  },
  "language_info": {
   "codemirror_mode": {
    "name": "ipython",
    "version": 3
   },
   "file_extension": ".py",
   "mimetype": "text/x-python",
   "name": "python",
   "nbconvert_exporter": "python",
   "pygments_lexer": "ipython3",
   "version": "3.5.2"
  }
 },
 "nbformat": 4,
 "nbformat_minor": 1
}
